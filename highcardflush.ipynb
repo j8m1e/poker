{
 "cells": [
  {
   "cell_type": "code",
   "execution_count": 1,
   "id": "afraid-radio",
   "metadata": {},
   "outputs": [],
   "source": [
    "import numpy as np"
   ]
  },
  {
   "cell_type": "code",
   "execution_count": 2,
   "id": "deluxe-tutorial",
   "metadata": {},
   "outputs": [],
   "source": [
    "rng = np.random.default_rng()"
   ]
  },
  {
   "cell_type": "code",
   "execution_count": 3,
   "id": "signal-substance",
   "metadata": {},
   "outputs": [],
   "source": [
    "n = 1_000_000"
   ]
  },
  {
   "cell_type": "code",
   "execution_count": 4,
   "id": "peripheral-kentucky",
   "metadata": {},
   "outputs": [],
   "source": [
    "cards = np.tile(np.arange(52, dtype=np.int16), (n, 1))"
   ]
  },
  {
   "cell_type": "code",
   "execution_count": 5,
   "id": "compact-batch",
   "metadata": {},
   "outputs": [],
   "source": [
    "rng.permuted(cards, axis=1, out=cards);"
   ]
  },
  {
   "cell_type": "code",
   "execution_count": 6,
   "id": "cross-advice",
   "metadata": {},
   "outputs": [],
   "source": [
    "imp_cards = cards[:, :49]"
   ]
  },
  {
   "cell_type": "markdown",
   "id": "cfb42a81-eb5f-40b8-b4df-a991f30577d7",
   "metadata": {},
   "source": [
    "Shape: n, player, card"
   ]
  },
  {
   "cell_type": "code",
   "execution_count": 7,
   "id": "7f9d003b-a96d-4f72-9bf8-c7e0df95c7ac",
   "metadata": {},
   "outputs": [],
   "source": [
    "shaped_cards = imp_cards.reshape(n, 7, 7)"
   ]
  },
  {
   "cell_type": "code",
   "execution_count": 8,
   "id": "6baac7da-645c-4f13-a25a-7d5ed3f95ab1",
   "metadata": {},
   "outputs": [],
   "source": [
    "suit = shaped_cards//13\n",
    "num = shaped_cards%13"
   ]
  },
  {
   "cell_type": "code",
   "execution_count": 9,
   "id": "1fbbd864-08e6-4752-a19d-f7dc9b1f6df3",
   "metadata": {
    "tags": []
   },
   "outputs": [],
   "source": [
    "shift_num = np.left_shift(1, num)"
   ]
  },
  {
   "cell_type": "code",
   "execution_count": 10,
   "id": "957ef24f-fa56-4b6e-a708-4b043cbd1687",
   "metadata": {},
   "outputs": [],
   "source": [
    "suit_bit_cards = np.empty((n, 7, 4), dtype=np.int16)"
   ]
  },
  {
   "cell_type": "code",
   "execution_count": 11,
   "id": "9a85f9e4-b587-4928-9fd6-f64a84c2551c",
   "metadata": {},
   "outputs": [],
   "source": [
    "for i in range(4):\n",
    "    np.bitwise_or.reduce(shift_num * (suit == i), axis=2, out=suit_bit_cards[..., i])"
   ]
  },
  {
   "cell_type": "code",
   "execution_count": 12,
   "id": "d56dcf6b-d384-423d-9ae2-f3e21c34331c",
   "metadata": {},
   "outputs": [],
   "source": [
    "suit_counts = np.empty((n, 7, 4), dtype=np.int16)"
   ]
  },
  {
   "cell_type": "code",
   "execution_count": 13,
   "id": "88450aac-ec32-44ec-8040-6ebc0c641fcd",
   "metadata": {},
   "outputs": [],
   "source": [
    "for i in range(4):\n",
    "    np.sum(suit == i, axis=2, out=suit_counts[..., i])"
   ]
  },
  {
   "cell_type": "code",
   "execution_count": 14,
   "id": "a2e6f3a3-c27a-4cc7-92e7-ae6b43496b62",
   "metadata": {},
   "outputs": [],
   "source": [
    "suit_max_counts = suit_counts.max(axis=-1)\n",
    "max_suit = suit_counts.argmax(axis=-1)"
   ]
  },
  {
   "cell_type": "code",
   "execution_count": 15,
   "id": "ceb7dfc7-6d10-4017-bf69-b5841736b20e",
   "metadata": {
    "tags": []
   },
   "outputs": [],
   "source": [
    "max_suit_bit_cards = np.take_along_axis(suit_bit_cards, np.expand_dims(max_suit, -1), axis=2).squeeze()"
   ]
  },
  {
   "cell_type": "code",
   "execution_count": 16,
   "id": "f94eeaa4-7500-4eb9-b2ad-dc6c746f77ff",
   "metadata": {},
   "outputs": [],
   "source": [
    "house_too_small = ~((suit_max_counts[:, 0]>=3)&(max_suit_bit_cards[:, 0]>=(1<<8)))"
   ]
  },
  {
   "cell_type": "code",
   "execution_count": 17,
   "id": "20b7e28a-3e5a-41a3-8c46-b17176685f4e",
   "metadata": {},
   "outputs": [],
   "source": [
    "results = np.sign(max_suit_bit_cards[:, 1:]-max_suit_bit_cards[:, 0:1])"
   ]
  },
  {
   "cell_type": "code",
   "execution_count": 18,
   "id": "ac66dac5-ef41-4435-b18d-165a5d627297",
   "metadata": {},
   "outputs": [],
   "source": [
    "results[suit_max_counts[:, 1:]>suit_max_counts[:, 0:1]] = 1\n",
    "results[suit_max_counts[:, 1:]<suit_max_counts[:, 0:1]] = -1"
   ]
  },
  {
   "cell_type": "code",
   "execution_count": 19,
   "id": "4a49940e-740d-4412-b804-8c5388a5d5f0",
   "metadata": {},
   "outputs": [],
   "source": [
    "max_bet = np.zeros_like(suit_max_counts)"
   ]
  },
  {
   "cell_type": "code",
   "execution_count": 20,
   "id": "aa2ee055-bc00-4871-bd5e-5e4316ec2681",
   "metadata": {},
   "outputs": [],
   "source": [
    "max_bet[suit_max_counts<=4] = 2\n",
    "max_bet[suit_max_counts==5] = 3\n",
    "max_bet[suit_max_counts>=6] = 4"
   ]
  },
  {
   "cell_type": "code",
   "execution_count": 21,
   "id": "c8c8d53e-c5a7-418b-846e-a43eec63c268",
   "metadata": {},
   "outputs": [],
   "source": [
    "import torch\n",
    "from torch import nn\n",
    "import torch.nn.functional as F"
   ]
  },
  {
   "cell_type": "code",
   "execution_count": 22,
   "id": "5ed29828-a588-49af-b021-95a6d63e16fa",
   "metadata": {},
   "outputs": [],
   "source": [
    "device = torch.device('cuda') if torch.cuda.is_available() else torch.device('cpu')"
   ]
  },
  {
   "cell_type": "code",
   "execution_count": 23,
   "id": "b2bc0566-167c-43a9-96fd-e1760c48ce5b",
   "metadata": {},
   "outputs": [],
   "source": [
    "class SimplePredictor(nn.Module):\n",
    "    def __init__(self, emb_dim=5, hid_dim=10):\n",
    "        super().__init__()\n",
    "        self.emb = nn.Embedding(52, emb_dim)\n",
    "        self.l1 = nn.Linear(emb_dim, hid_dim)\n",
    "        self.l2 = nn.Linear(hid_dim, 1)\n",
    "    \n",
    "    def forward(self, x):\n",
    "        x = self.emb(x)\n",
    "        x = self.l1(x)\n",
    "        x = x.sum(dim=-2)\n",
    "        x = F.relu(x)\n",
    "        x = self.l2(x)\n",
    "        x = torch.tanh(x)\n",
    "        return x"
   ]
  },
  {
   "cell_type": "code",
   "execution_count": 24,
   "id": "184d6af1-10e1-4067-b2f8-75823120d5a4",
   "metadata": {},
   "outputs": [
    {
     "data": {
      "text/plain": [
       "(700000, 150000, 150000)"
      ]
     },
     "execution_count": 24,
     "metadata": {},
     "output_type": "execute_result"
    }
   ],
   "source": [
    "train_size = round(n*0.7)\n",
    "val_size = round(n*0.15)\n",
    "train_size, val_size, n-train_size-val_size"
   ]
  },
  {
   "cell_type": "code",
   "execution_count": 25,
   "id": "64045941-c278-43c5-8fef-b129bca88b32",
   "metadata": {},
   "outputs": [],
   "source": [
    "X = torch.tensor(shaped_cards[:train_size, 1:, :], dtype=torch.int32, device=device)\n",
    "t_max = torch.tensor(max_bet[:train_size, 1:], dtype=torch.int32, device=device)\n",
    "Y = torch.tensor(results[:train_size, :], dtype=torch.float32, device=device)\n",
    "t_nai = Y * t_max"
   ]
  },
  {
   "cell_type": "code",
   "execution_count": 26,
   "id": "bf5f728e-974c-4728-86ba-e3d931245454",
   "metadata": {},
   "outputs": [],
   "source": [
    "val_X = torch.tensor(shaped_cards[train_size:train_size+val_size, 1:, :], dtype=torch.int32, device=device)\n",
    "val_max = torch.tensor(max_bet[train_size:train_size+val_size, 1:], dtype=torch.int32, device=device)\n",
    "val_Y = torch.tensor(results[train_size:train_size+val_size, :], dtype=torch.float32, device=device)\n",
    "val_nai = val_Y * val_max"
   ]
  },
  {
   "cell_type": "code",
   "execution_count": 209,
   "id": "d4c8aaaa-c9de-4b53-92de-2576efc05bd7",
   "metadata": {},
   "outputs": [],
   "source": [
    "simp_pred = SimplePredictor().to(device=device)"
   ]
  },
  {
   "cell_type": "code",
   "execution_count": 210,
   "id": "7d06e175-bb59-4fe2-b86f-5fbf42e67146",
   "metadata": {},
   "outputs": [],
   "source": [
    "lr=0.1"
   ]
  },
  {
   "cell_type": "code",
   "execution_count": 211,
   "id": "84bb5354-e66a-4b94-aa0d-2184ed50e85c",
   "metadata": {},
   "outputs": [],
   "source": [
    "def asym_loss(mul=2):\n",
    "    def loss(pred, tgt):\n",
    "        return (((pred < tgt) * (mul-1) + 1) * (pred-tgt).abs()).mean()\n",
    "    return loss"
   ]
  },
  {
   "cell_type": "code",
   "execution_count": 224,
   "id": "24f997c9-576a-49bc-9f4f-fdb4f95d2604",
   "metadata": {},
   "outputs": [],
   "source": [
    "mse=asym_loss(mul=1.00)"
   ]
  },
  {
   "cell_type": "code",
   "execution_count": 225,
   "id": "02a89d36-70d9-46ba-a465-d73e4e70c37b",
   "metadata": {},
   "outputs": [],
   "source": [
    "optim=torch.optim.Adam(simp_pred.parameters(), lr=lr)"
   ]
  },
  {
   "cell_type": "code",
   "execution_count": 226,
   "id": "54414c0d-b560-4e11-b453-0874d1ce433f",
   "metadata": {
    "tags": []
   },
   "outputs": [
    {
     "name": "stdout",
     "output_type": "stream",
     "text": [
      "Epoch 0: 0.7842665314674377\n",
      "Epoch 100: 0.68296879529953\n",
      "Epoch 200: 0.6800105571746826\n",
      "Epoch 300: 0.6796910166740417\n",
      "Epoch 400: 0.6797274947166443\n",
      "Epoch 500: 0.6795465350151062\n",
      "Epoch 600: 0.6796022653579712\n",
      "Epoch 700: 0.6905087828636169\n",
      "Epoch 800: 0.6280180811882019\n",
      "Epoch 900: 0.6275476813316345\n",
      "Epoch 1000: 0.6274371147155762\n"
     ]
    }
   ],
   "source": [
    "losses = []\n",
    "val_losses = []\n",
    "for i in range(1001):\n",
    "    optim.zero_grad()\n",
    "    \n",
    "    loss = mse(simp_pred(X).squeeze(), Y)\n",
    "    losses.append(loss.item())\n",
    "    \n",
    "    loss.backward()\n",
    "    optim.step()\n",
    "    \n",
    "    if i%100 == 0:\n",
    "        with torch.no_grad():\n",
    "            loss = mse(simp_pred(val_X).squeeze(), val_Y)\n",
    "            val_losses.append(loss.item())\n",
    "            print(f\"Epoch {i}: {loss.item()}\")"
   ]
  },
  {
   "cell_type": "code",
   "execution_count": 227,
   "id": "1e135179-8a7d-4c47-9fa1-c882de86a051",
   "metadata": {},
   "outputs": [],
   "source": [
    "train_pred = simp_pred(X).squeeze().cpu().detach().numpy()\n",
    "np_t_nai = t_nai.cpu().detach().numpy()\n",
    "\n",
    "res = []\n",
    "for i in np.arange(1, -1, -0.1):\n",
    "    ai_outcome = np.copy(np_t_nai)\n",
    "    ai_outcome[train_pred<i] = -1\n",
    "    res.append(ai_outcome.mean())"
   ]
  },
  {
   "cell_type": "code",
   "execution_count": 228,
   "id": "9b12a010-6819-4e5d-9378-a95a6e698f93",
   "metadata": {},
   "outputs": [
    {
     "data": {
      "text/plain": [
       "[<matplotlib.lines.Line2D at 0x7f03684628f0>]"
      ]
     },
     "execution_count": 228,
     "metadata": {},
     "output_type": "execute_result"
    },
    {
     "data": {
      "image/png": "[encoded data removed]",
      "text/plain": [
       "<Figure size 640x480 with 1 Axes>"
      ]
     },
     "metadata": {},
     "output_type": "display_data"
    }
   ],
   "source": [
    "plt.plot(np.arange(1, -1, -0.1), res)"
   ]
  },
  {
   "cell_type": "code",
   "execution_count": 39,
   "id": "2f7578c9-9373-4cb4-83ab-8fb59bc28b69",
   "metadata": {},
   "outputs": [],
   "source": [
    "import matplotlib.pyplot as plt"
   ]
  },
  {
   "cell_type": "code",
   "execution_count": 41,
   "id": "783048c7-1fc5-4abe-af94-aebc91672411",
   "metadata": {},
   "outputs": [
    {
     "data": {
      "image/png": "[encoded data removed]",
      "text/plain": [
       "<Figure size 640x480 with 1 Axes>"
      ]
     },
     "metadata": {},
     "output_type": "display_data"
    }
   ],
   "source": [
    "plt.plot(losses)\n",
    "plt.yscale('log')"
   ]
  },
  {
   "cell_type": "code",
   "execution_count": 42,
   "id": "4886ba6f-8b86-41ab-8e3a-5e4e602b9d6d",
   "metadata": {},
   "outputs": [
    {
     "data": {
      "text/plain": [
       "[<matplotlib.lines.Line2D at 0x7f672e400bb0>]"
      ]
     },
     "execution_count": 42,
     "metadata": {},
     "output_type": "execute_result"
    },
    {
     "data": {
      "image/png": "[encoded data removed]",
      "text/plain": [
       "<Figure size 640x480 with 1 Axes>"
      ]
     },
     "metadata": {},
     "output_type": "display_data"
    }
   ],
   "source": [
    "plt.plot(val_losses)"
   ]
  },
  {
   "cell_type": "code",
   "execution_count": 239,
   "id": "fca09093-06f3-4886-a896-3946bdca2f3c",
   "metadata": {},
   "outputs": [],
   "source": [
    "with torch.no_grad():\n",
    "    val_pred = simp_pred(val_X).round().squeeze().cpu().detach().numpy().astype(int)\n",
    "    val_float_pred = simp_pred(val_X).squeeze().cpu().detach().numpy()"
   ]
  },
  {
   "cell_type": "code",
   "execution_count": 43,
   "id": "f389a7fe-6fb6-41bd-8387-2acb742c9684",
   "metadata": {},
   "outputs": [],
   "source": [
    "with torch.no_grad():\n",
    "    val_pred = mixed(val_X, encoder(val_X).round()).round().squeeze().cpu().detach().numpy().astype(int)\n",
    "    val_float_pred = mixed(val_X, encoder(val_X).round()).squeeze().cpu().detach().numpy()"
   ]
  },
  {
   "cell_type": "code",
   "execution_count": 44,
   "id": "42720769-4449-4b9e-9df3-02d6df6bf0fc",
   "metadata": {},
   "outputs": [],
   "source": [
    "val_tgt=results[train_size:train_size+val_size, :]"
   ]
  },
  {
   "cell_type": "code",
   "execution_count": 45,
   "id": "f6e7930e-08f7-4755-ac11-1f08da1d1d1c",
   "metadata": {},
   "outputs": [],
   "source": [
    "def conf_matrix(val_pred, val_tgt):\n",
    "    res = []\n",
    "    for i in range(-1, 2):\n",
    "        a = []\n",
    "        for j in range(-1, 2):\n",
    "            a.append(((val_pred==i)&(val_tgt==j)).sum())\n",
    "        res.append(a)\n",
    "    return np.array(res)"
   ]
  },
  {
   "cell_type": "code",
   "execution_count": 46,
   "id": "ae855f36-9bf9-4c0a-a258-d18d440d88ef",
   "metadata": {},
   "outputs": [],
   "source": [
    "conf = conf_matrix(val_pred, val_tgt)"
   ]
  },
  {
   "cell_type": "code",
   "execution_count": 47,
   "id": "8ae4084d-6252-41b8-bcae-2e32012e06ca",
   "metadata": {},
   "outputs": [],
   "source": [
    "frac_conf = conf/conf.sum()"
   ]
  },
  {
   "cell_type": "code",
   "execution_count": 48,
   "id": "08938cb1-3a77-431e-a428-40bb0ef8a8b3",
   "metadata": {},
   "outputs": [
    {
     "data": {
      "text/plain": [
       "array([[3.91148889e-01, 7.98888889e-04, 1.85976667e-01],\n",
       "       [8.60777778e-03, 3.33333333e-05, 1.05411111e-02],\n",
       "       [9.94177778e-02, 3.70000000e-04, 3.03105556e-01]])"
      ]
     },
     "execution_count": 48,
     "metadata": {},
     "output_type": "execute_result"
    }
   ],
   "source": [
    "frac_conf"
   ]
  },
  {
   "cell_type": "code",
   "execution_count": 49,
   "id": "dd263081-ca0d-4b6b-9ee2-6e25c8ecb4dc",
   "metadata": {},
   "outputs": [
    {
     "name": "stderr",
     "output_type": "stream",
     "text": [
      "/tmp/ipykernel_28081/2595253012.py:7: UserWarning: FixedFormatter should only be used together with FixedLocator\n",
      "  ax.set_xticklabels((\"\", \"Loss\", \"Tie\", \"Win\"))\n",
      "/tmp/ipykernel_28081/2595253012.py:8: UserWarning: FixedFormatter should only be used together with FixedLocator\n",
      "  ax.set_yticklabels((\"\", \"Loss\", \"Tie\", \"Win\"))\n"
     ]
    },
    {
     "data": {
      "image/png": "[encoded data removed]",
      "text/plain": [
       "<Figure size 640x480 with 1 Axes>"
      ]
     },
     "metadata": {},
     "output_type": "display_data"
    }
   ],
   "source": [
    "fig, ax = plt.subplots()\n",
    "# Using matshow here just because it sets the ticks up nicely. imshow is faster.\n",
    "ax.matshow(frac_conf)\n",
    "\n",
    "for (i, j), z in np.ndenumerate(frac_conf):\n",
    "    ax.text(j, i, '{:0.2f}%'.format(z*100), ha='center', va='center')\n",
    "ax.set_xticklabels((\"\", \"Loss\", \"Tie\", \"Win\"))\n",
    "ax.set_yticklabels((\"\", \"Loss\", \"Tie\", \"Win\"))\n",
    "ax.set_xlabel(\"Actual Outcome\")\n",
    "ax.set_ylabel(\"Predicted Outcome\")\n",
    "plt.show()"
   ]
  },
  {
   "cell_type": "code",
   "execution_count": 55,
   "id": "85c2d712-8fc7-4ae6-83e7-1f746cca90a8",
   "metadata": {},
   "outputs": [],
   "source": [
    "val_suit = suit_max_counts[train_size:train_size+val_size, 1:]"
   ]
  },
  {
   "cell_type": "code",
   "execution_count": 65,
   "id": "35ff1869-db9d-4334-aae8-4b7205abdb45",
   "metadata": {},
   "outputs": [],
   "source": [
    "val_small = house_too_small[train_size:train_size+val_size]"
   ]
  },
  {
   "cell_type": "code",
   "execution_count": 56,
   "id": "3d701685-fd72-4f6f-96b5-97c338bf53bc",
   "metadata": {},
   "outputs": [],
   "source": [
    "max_bet = np.zeros_like(val_suit)"
   ]
  },
  {
   "cell_type": "code",
   "execution_count": 57,
   "id": "b40c1ae9-f5c9-481b-a278-8b6c81b054b7",
   "metadata": {},
   "outputs": [],
   "source": [
    "max_bet[val_suit<=4] = 2\n",
    "max_bet[val_suit==5] = 3\n",
    "max_bet[val_suit>=6] = 4"
   ]
  },
  {
   "cell_type": "code",
   "execution_count": 58,
   "id": "d64d552a-699d-46ad-a9a1-6a24242dfe46",
   "metadata": {},
   "outputs": [],
   "source": [
    "naive_outcome = val_tgt * max_bet"
   ]
  },
  {
   "cell_type": "code",
   "execution_count": 68,
   "id": "98591766-0242-4706-bd4a-4057c171c844",
   "metadata": {},
   "outputs": [],
   "source": [
    "filtered_outcome = np.copy(naive_outcome)\n",
    "filtered_outcome[val_small, :] = 1"
   ]
  },
  {
   "cell_type": "code",
   "execution_count": 250,
   "id": "33a60919-98e6-491e-9c30-8cc7f09a18b2",
   "metadata": {},
   "outputs": [],
   "source": [
    "ai_outcome = np.copy(naive_outcome)\n",
    "ai_outcome[val_pred<0] = -1"
   ]
  },
  {
   "cell_type": "code",
   "execution_count": 251,
   "id": "c047f024-0999-42b1-bd36-08896810b197",
   "metadata": {},
   "outputs": [
    {
     "data": {
      "text/plain": [
       "0.48897"
      ]
     },
     "execution_count": 251,
     "metadata": {},
     "output_type": "execute_result"
    }
   ],
   "source": [
    "(np.mean(val_pred>0))"
   ]
  },
  {
   "cell_type": "code",
   "execution_count": 66,
   "id": "7180b808-7979-4707-b41a-c5d841f48497",
   "metadata": {},
   "outputs": [
    {
     "data": {
      "text/plain": [
       "(150000,)"
      ]
     },
     "execution_count": 66,
     "metadata": {},
     "output_type": "execute_result"
    }
   ],
   "source": [
    "val_small.shape"
   ]
  },
  {
   "cell_type": "code",
   "execution_count": 71,
   "id": "b52b296e-375a-4cd4-9cfc-11dcf9489083",
   "metadata": {},
   "outputs": [
    {
     "data": {
      "text/plain": [
       "array([-0.06090667, -0.05726   , -0.05836   , -0.05428667, -0.05338667,\n",
       "       -0.05066667])"
      ]
     },
     "execution_count": 71,
     "metadata": {},
     "output_type": "execute_result"
    }
   ],
   "source": [
    "filtered_outcome.mean(axis=0)"
   ]
  },
  {
   "cell_type": "code",
   "execution_count": 95,
   "id": "5088d062-25fb-4e5b-9cbd-00d2234a97f1",
   "metadata": {},
   "outputs": [
    {
     "data": {
      "text/plain": [
       "array([[-1, -1, -1,  1, -1, -1],\n",
       "       [-1, -1, -1, -1, -1, -1],\n",
       "       [ 1,  1, -1, -1, -1, -1],\n",
       "       ...,\n",
       "       [ 1,  1, -1, -1, -1, -1],\n",
       "       [-1,  1,  1, -1, -1, -1],\n",
       "       [ 1,  1, -1,  1,  1,  1]])"
      ]
     },
     "execution_count": 95,
     "metadata": {},
     "output_type": "execute_result"
    }
   ],
   "source": [
    "val_pred"
   ]
  },
  {
   "cell_type": "code",
   "execution_count": null,
   "id": "94e91ab1-7f03-4a45-99c5-a22d271b7de5",
   "metadata": {},
   "outputs": [],
   "source": []
  },
  {
   "cell_type": "code",
   "execution_count": null,
   "id": "4b6998b8-8945-4ef9-a5d3-72df6ef9bd84",
   "metadata": {},
   "outputs": [],
   "source": []
  },
  {
   "cell_type": "code",
   "execution_count": 238,
   "id": "75b08357-13bb-4c31-a309-da8192fec127",
   "metadata": {},
   "outputs": [
    {
     "data": {
      "text/plain": [
       "<All keys matched successfully>"
      ]
     },
     "execution_count": 238,
     "metadata": {},
     "output_type": "execute_result"
    }
   ],
   "source": [
    "simp_pred.load_state_dict(torch.load('simp_pred.pt'))"
   ]
  },
  {
   "cell_type": "code",
   "execution_count": 27,
   "id": "7fc7a775-e8f3-4602-9649-0aea6117a8d5",
   "metadata": {},
   "outputs": [],
   "source": [
    "from itertools import *"
   ]
  },
  {
   "cell_type": "code",
   "execution_count": 28,
   "id": "f00ff29b-dc08-4c44-aa08-77dbff57e93e",
   "metadata": {},
   "outputs": [],
   "source": [
    "class SimpleEncoder(nn.Module):\n",
    "    def __init__(self, emb_dim=5, hid_dim=10, out_dim=5):\n",
    "        super().__init__()\n",
    "        self.emb = nn.Embedding(52, emb_dim)\n",
    "        self.l1 = nn.Linear(emb_dim, hid_dim)\n",
    "        self.l2 = nn.Linear(hid_dim, out_dim)\n",
    "    \n",
    "    def forward(self, x):\n",
    "        x = self.emb(x)\n",
    "        x = self.l1(x)\n",
    "        x = x.sum(dim=-2)\n",
    "        x = F.relu(x)\n",
    "        x = self.l2(x)\n",
    "        x = torch.sigmoid(8*x)\n",
    "        return x"
   ]
  },
  {
   "cell_type": "code",
   "execution_count": 29,
   "id": "1da7425b-6b66-40a8-b73c-67b28ca0bc48",
   "metadata": {},
   "outputs": [],
   "source": [
    "class MixedPredictor(nn.Module):\n",
    "    def __init__(self, emb_dim=5, hid_dim=10, hint_dim=5):\n",
    "        super().__init__()\n",
    "        self.emb = nn.Embedding(52, emb_dim)\n",
    "        self.m1 = nn.Linear(6*hint_dim, emb_dim)\n",
    "        self.l1 = nn.Linear(emb_dim, hid_dim)\n",
    "        self.l2 = nn.Linear(hid_dim+hint_dim, 1)\n",
    "    \n",
    "    def forward(self, x, hint):\n",
    "        x = self.emb(x)\n",
    "        h2 = hint.reshape(hint.shape[0], -1)\n",
    "        h2 = self.m1(h2)\n",
    "        x = self.l1(x)\n",
    "        x = x.sum(dim=-2)\n",
    "        x = F.relu(x)\n",
    "        h2 = torch.tile(h2, (6, 1, 1)).transpose(0, 1)\n",
    "        x = torch.concat((x, h2), dim=2)\n",
    "        x = self.l2(x)\n",
    "        x = torch.tanh(x)\n",
    "        return x"
   ]
  },
  {
   "cell_type": "code",
   "execution_count": 30,
   "id": "1191bacb-5352-4815-885b-8858fbc1955a",
   "metadata": {},
   "outputs": [],
   "source": [
    "encoder = SimpleEncoder().to(device=device)"
   ]
  },
  {
   "cell_type": "code",
   "execution_count": 31,
   "id": "138a80ed-9a04-4ed7-8bf7-4b8ef17c72c6",
   "metadata": {},
   "outputs": [],
   "source": [
    "mixed = MixedPredictor().to(device=device)"
   ]
  },
  {
   "cell_type": "code",
   "execution_count": 32,
   "id": "39dc26ea-bae7-4980-b1c6-8e7ac6ed1c56",
   "metadata": {},
   "outputs": [],
   "source": [
    "hint = encoder(X)"
   ]
  },
  {
   "cell_type": "code",
   "execution_count": 33,
   "id": "f7332ce8-99a6-4b70-8c7a-4531d80ebb4b",
   "metadata": {},
   "outputs": [],
   "source": [
    "lr=0.01"
   ]
  },
  {
   "cell_type": "code",
   "execution_count": 34,
   "id": "1bdbd478-62d6-42fc-be46-b8d38163bd76",
   "metadata": {},
   "outputs": [],
   "source": [
    "def asym_loss(mul=2):\n",
    "    def loss(pred, tgt):\n",
    "        return (((pred < tgt) * (mul-1) + 1) * (pred-tgt).abs()).mean()\n",
    "    return loss"
   ]
  },
  {
   "cell_type": "code",
   "execution_count": 35,
   "id": "41d3b95e-a19e-4546-8eb0-c276426e5ca1",
   "metadata": {},
   "outputs": [],
   "source": [
    "mse=asym_loss(mul=1.01)"
   ]
  },
  {
   "cell_type": "code",
   "execution_count": 36,
   "id": "f2ee6929-fb37-439d-9f53-0e8926019ac1",
   "metadata": {},
   "outputs": [],
   "source": [
    "optim=torch.optim.Adam(chain(encoder.parameters(), mixed.parameters()), lr=lr)"
   ]
  },
  {
   "cell_type": "code",
   "execution_count": 53,
   "id": "733967a9-30b9-4b54-9033-8745de176488",
   "metadata": {
    "tags": []
   },
   "outputs": [
    {
     "name": "stdout",
     "output_type": "stream",
     "text": [
      "Epoch 0: 0.5951974987983704\n",
      "Epoch 100: 0.5958511233329773\n",
      "Epoch 200: 0.5942739248275757\n",
      "Epoch 300: 0.595772922039032\n",
      "Epoch 400: 0.5955526828765869\n",
      "Epoch 500: 0.5947486758232117\n",
      "Epoch 600: 0.5939888954162598\n",
      "Epoch 700: 0.5938815474510193\n",
      "Epoch 800: 0.5920277833938599\n",
      "Epoch 900: 0.5919722318649292\n",
      "Epoch 1000: 0.5915623903274536\n"
     ]
    }
   ],
   "source": [
    "losses = []\n",
    "val_losses = []\n",
    "for i in range(1001):\n",
    "    optim.zero_grad()\n",
    "    \n",
    "    hint = encoder(X)\n",
    "    \n",
    "    loss = mse(mixed(X, hint).squeeze(), Y)\n",
    "    losses.append(loss.item())\n",
    "    \n",
    "    loss.backward()\n",
    "    optim.step()\n",
    "    \n",
    "    if i%100 == 0:\n",
    "        with torch.no_grad():\n",
    "            hint = encoder(val_X).round()\n",
    "            loss = mse(mixed(val_X, hint).squeeze(), val_Y)\n",
    "            val_losses.append(loss.item())\n",
    "            print(f\"Epoch {i}: {loss.item()}\")"
   ]
  },
  {
   "cell_type": "code",
   "execution_count": null,
   "id": "7f914cb6-10c0-4af2-a1f4-7e3c2c294088",
   "metadata": {},
   "outputs": [],
   "source": []
  }
 ],
 "metadata": {
  "kernelspec": {
   "display_name": "Python 3 (ipykernel)",
   "language": "python",
   "name": "python3"
  },
  "language_info": {
   "codemirror_mode": {
    "name": "ipython",
    "version": 3
   },
   "file_extension": ".py",
   "mimetype": "text/x-python",
   "name": "python",
   "nbconvert_exporter": "python",
   "pygments_lexer": "ipython3",
   "version": "3.10.4"
  }
 },
 "nbformat": 4,
 "nbformat_minor": 5
}
